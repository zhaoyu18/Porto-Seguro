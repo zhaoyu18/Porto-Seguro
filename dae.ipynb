{
 "cells": [
  {
   "cell_type": "code",
   "execution_count": 1,
   "metadata": {
    "collapsed": false
   },
   "outputs": [
    {
     "name": "stderr",
     "output_type": "stream",
     "text": [
      "C:\\Users\\zhaoy\\Anaconda3\\lib\\site-packages\\sklearn\\cross_validation.py:44: DeprecationWarning: This module was deprecated in version 0.18 in favor of the model_selection module into which all the refactored classes and functions are moved. Also note that the interface of the new CV iterators are different from that of this module. This module will be removed in 0.20.\n",
      "  \"This module will be removed in 0.20.\", DeprecationWarning)\n"
     ]
    }
   ],
   "source": [
    "import numpy as np\n",
    "import pandas as pd\n",
    " \n",
    "import pandas as pd\n",
    "from pandas import Series, DataFrame \n",
    "from tensorflow.python.framework import ops\n",
    "import tensorflow as tf\n",
    "import matplotlib.pyplot as plt\n",
    "import math\n",
    "import sklearn.metrics as skm\n",
    "%matplotlib inline\n",
    "from sklearn.model_selection import StratifiedKFold, StratifiedShuffleSplit\n",
    "plt.rcParams['figure.figsize'] = (7.0, 4.0)\n",
    "plt.rcParams['image.interpolation'] = 'nearest'\n",
    "plt.rcParams['image.cmap'] = 'gray'\n",
    "from sklearn.linear_model import LogisticRegression\n",
    "from sklearn.cross_validation import train_test_split\n",
    "from sklearn import ensemble,metrics,cross_validation"
   ]
  },
  {
   "cell_type": "code",
   "execution_count": 2,
   "metadata": {
    "collapsed": true
   },
   "outputs": [],
   "source": [
    "train = pd.read_csv('../input/train.csv')\n",
    "test = pd.read_csv('../input/test.csv')"
   ]
  },
  {
   "cell_type": "code",
   "execution_count": 3,
   "metadata": {
    "collapsed": false
   },
   "outputs": [
    {
     "name": "stdout",
     "output_type": "stream",
     "text": [
      "(595212, 198) (892816, 198)\n",
      "(595212,)\n"
     ]
    }
   ],
   "source": [
    "id_test = test['id'].values\n",
    "target_train = train['target'].values\n",
    "train = train.drop(['target','id'], axis = 1)\n",
    "test = test.drop(['id'], axis = 1)\n",
    "col_to_drop = train.columns[train.columns.str.startswith('ps_calc_')]\n",
    "train = train.drop(col_to_drop, axis=1)\n",
    "test = test.drop(col_to_drop, axis=1)  \n",
    "train = train.replace(-1, np.nan)\n",
    "test = test.replace(-1, np.nan)\n",
    "cat_features = [a for a in train.columns if a.endswith('cat')]\n",
    "for column in cat_features:\n",
    "    temp = pd.get_dummies(pd.Series(train[column]))\n",
    "    train = pd.concat([train,temp],axis=1)\n",
    "    train = train.drop([column],axis=1)\n",
    "for column in cat_features:\n",
    "    temp = pd.get_dummies(pd.Series(test[column]))\n",
    "    test = pd.concat([test,temp],axis=1)\n",
    "    test = test.drop([column],axis=1)\n",
    "test=test.fillna(method='pad')\n",
    "train=train.fillna(method='pad')\n",
    "print(train.values.shape, test.values.shape)\n",
    "print(target_train.shape)"
   ]
  },
  {
   "cell_type": "code",
   "execution_count": 4,
   "metadata": {
    "collapsed": true
   },
   "outputs": [],
   "source": [
    "def gini(y, pred):\n",
    "    fpr, tpr, thr = metrics.roc_curve(y, pred, pos_label=1)\n",
    "    g = 2 * metrics.auc(fpr, tpr) -1\n",
    "    return g"
   ]
  },
  {
   "cell_type": "code",
   "execution_count": 46,
   "metadata": {
    "collapsed": true
   },
   "outputs": [],
   "source": [
    "def swap_data(data):\n",
    "    data_swap = []\n",
    "    for row in data:\n",
    "        swap_col_idxs = np.random.choice(data.shape[1], 33)\n",
    "        swap_row_idx = np.random.choice(data.shape[0], 1)[0]\n",
    "        new_row = row.copy()\n",
    "        new_row[swap_col_idxs] = data[swap_row_idx][swap_col_idxs]\n",
    "        data_swap.append(new_row)\n",
    "    return np.array(data_swap)"
   ]
  },
  {
   "cell_type": "code",
   "execution_count": 5,
   "metadata": {
    "collapsed": false
   },
   "outputs": [
    {
     "name": "stdout",
     "output_type": "stream",
     "text": [
      "Gini log  Test=  0.257704953635\n"
     ]
    }
   ],
   "source": [
    "x_train ,x_test, y_train, y_test = train_test_split(train, target_train, test_size=0.2, random_state=1)\n",
    "\n",
    "log_model=LogisticRegression()\n",
    "log_model.fit(x_train,y_train)\n",
    "pred_log = log_model.predict_proba(x_test)[:,1]\n",
    "print( \"Gini log  Test= \", gini(y_test, pred_log))"
   ]
  },
  {
   "cell_type": "code",
   "execution_count": 6,
   "metadata": {
    "collapsed": false
   },
   "outputs": [
    {
     "name": "stderr",
     "output_type": "stream",
     "text": [
      "Using TensorFlow backend.\n"
     ]
    }
   ],
   "source": [
    "from keras.layers import Input, Dense\n",
    "from keras.models import Model"
   ]
  },
  {
   "cell_type": "code",
   "execution_count": 58,
   "metadata": {
    "collapsed": true
   },
   "outputs": [],
   "source": [
    "input_layer = Input(shape=(train.shape[1],))\n",
    "\n",
    "encoded = Dense(1000, activation='relu')(input_layer)\n",
    "encoded = Dense(500, activation='linear')(encoded)\n",
    "\n",
    "decoded = Dense(1000, activation='relu')(encoded)\n",
    "decoded = Dense(train.shape[1], activation='linear')(decoded)"
   ]
  },
  {
   "cell_type": "code",
   "execution_count": 59,
   "metadata": {
    "collapsed": true
   },
   "outputs": [],
   "source": [
    "autoencoder = Model(input_layer, decoded)\n",
    "autoencoder.compile(optimizer='adam', loss='mean_squared_error')"
   ]
  },
  {
   "cell_type": "code",
   "execution_count": 60,
   "metadata": {
    "collapsed": true
   },
   "outputs": [],
   "source": [
    "encoder = Model(input_layer, encoded)"
   ]
  },
  {
   "cell_type": "code",
   "execution_count": 61,
   "metadata": {
    "collapsed": false
   },
   "outputs": [
    {
     "name": "stdout",
     "output_type": "stream",
     "text": [
      "Epoch 1/1\n",
      "595212/595212 [==============================] - 9s - loss: 0.0465     \n",
      "Epoch 1/1\n",
      "595212/595212 [==============================] - 9s - loss: 0.0407     \n",
      "Epoch 1/1\n",
      "595212/595212 [==============================] - 9s - loss: 0.0397     \n",
      "Epoch 1/1\n",
      "595212/595212 [==============================] - 9s - loss: 0.0390     \n",
      "Epoch 1/1\n",
      "595212/595212 [==============================] - 9s - loss: 0.0387     \n",
      "Epoch 1/1\n",
      "595212/595212 [==============================] - 9s - loss: 0.0383     \n",
      "Epoch 1/1\n",
      "595212/595212 [==============================] - 9s - loss: 0.0381     \n",
      "Epoch 1/1\n",
      "595212/595212 [==============================] - 9s - loss: 0.0378     \n",
      "Epoch 1/1\n",
      "595212/595212 [==============================] - 9s - loss: 0.0376     \n",
      "Epoch 1/1\n",
      "595212/595212 [==============================] - 9s - loss: 0.0374     \n",
      "Epoch 1/1\n",
      "595212/595212 [==============================] - 9s - loss: 0.0371     \n",
      "Epoch 1/1\n",
      "595212/595212 [==============================] - 9s - loss: 0.0370     \n",
      "Epoch 1/1\n",
      "595212/595212 [==============================] - 9s - loss: 0.0369     \n",
      "Epoch 1/1\n",
      "595212/595212 [==============================] - 9s - loss: 0.0370     \n",
      "Epoch 1/1\n",
      "595212/595212 [==============================] - 9s - loss: 0.0368     \n",
      "Epoch 1/1\n",
      "595212/595212 [==============================] - 9s - loss: 0.0367     \n",
      "Epoch 1/1\n",
      "595212/595212 [==============================] - 9s - loss: 0.0367     \n",
      "Epoch 1/1\n",
      "595212/595212 [==============================] - 9s - loss: 0.0366     \n",
      "Epoch 1/1\n",
      "595212/595212 [==============================] - 9s - loss: 0.0364     \n",
      "Epoch 1/1\n",
      "595212/595212 [==============================] - 9s - loss: 0.0363     \n",
      "Epoch 1/1\n",
      "595212/595212 [==============================] - 9s - loss: 0.0362     \n",
      "Epoch 1/1\n",
      "595212/595212 [==============================] - 9s - loss: 0.0362     \n",
      "Epoch 1/1\n",
      "595212/595212 [==============================] - 9s - loss: 0.0362     \n",
      "Epoch 1/1\n",
      "595212/595212 [==============================] - 9s - loss: 0.0362     \n",
      "Epoch 1/1\n",
      "595212/595212 [==============================] - 9s - loss: 0.0362     \n",
      "Epoch 1/1\n",
      "595212/595212 [==============================] - 9s - loss: 0.0360     \n",
      "Epoch 1/1\n",
      "595212/595212 [==============================] - 9s - loss: 0.0361     \n",
      "Epoch 1/1\n",
      "595212/595212 [==============================] - 9s - loss: 0.0360     \n",
      "Epoch 1/1\n",
      "595212/595212 [==============================] - 9s - loss: 0.0361     \n",
      "Epoch 1/1\n",
      "595212/595212 [==============================] - 9s - loss: 0.0360     \n",
      "Epoch 1/1\n",
      "595212/595212 [==============================] - 9s - loss: 0.0359     \n",
      "Epoch 1/1\n",
      "595212/595212 [==============================] - 9s - loss: 0.0360     \n",
      "Epoch 1/1\n",
      "595212/595212 [==============================] - 9s - loss: 0.0359     \n",
      "Epoch 1/1\n",
      "595212/595212 [==============================] - 9s - loss: 0.0359     \n",
      "Epoch 1/1\n",
      "595212/595212 [==============================] - 9s - loss: 0.0359     \n",
      "Epoch 1/1\n",
      "595212/595212 [==============================] - 9s - loss: 0.0359     \n",
      "Epoch 1/1\n",
      "595212/595212 [==============================] - 9s - loss: 0.0357     \n",
      "Epoch 1/1\n",
      "595212/595212 [==============================] - 9s - loss: 0.0358     \n",
      "Epoch 1/1\n",
      "595212/595212 [==============================] - 9s - loss: 0.0359     \n",
      "Epoch 1/1\n",
      "595212/595212 [==============================] - 9s - loss: 0.0357     \n",
      "Epoch 1/1\n",
      "595212/595212 [==============================] - 9s - loss: 0.0356     \n",
      "Epoch 1/1\n",
      "595212/595212 [==============================] - 9s - loss: 0.0358     \n",
      "Epoch 1/1\n",
      "595212/595212 [==============================] - 9s - loss: 0.0358     \n",
      "Epoch 1/1\n",
      "595212/595212 [==============================] - 9s - loss: 0.0355     \n",
      "Epoch 1/1\n",
      "595212/595212 [==============================] - 9s - loss: 0.0357     \n",
      "Epoch 1/1\n",
      "595212/595212 [==============================] - 9s - loss: 0.0358     \n",
      "Epoch 1/1\n",
      "595212/595212 [==============================] - 9s - loss: 0.0356     \n",
      "Epoch 1/1\n",
      "595212/595212 [==============================] - 9s - loss: 0.0358     \n",
      "Epoch 1/1\n",
      "595212/595212 [==============================] - 9s - loss: 0.0359     \n",
      "Epoch 1/1\n",
      "595212/595212 [==============================] - 9s - loss: 0.0357     \n"
     ]
    }
   ],
   "source": [
    "for i in range(50):\n",
    "    data_swap = swap_data(train.values)\n",
    "    autoencoder.fit(data_swap, train.values,\n",
    "                    epochs=1,\n",
    "                    batch_size=512,\n",
    "                    shuffle=True)"
   ]
  },
  {
   "cell_type": "code",
   "execution_count": 62,
   "metadata": {
    "collapsed": false
   },
   "outputs": [
    {
     "data": {
      "text/plain": [
       "(595212, 500)"
      ]
     },
     "execution_count": 62,
     "metadata": {},
     "output_type": "execute_result"
    }
   ],
   "source": [
    "train_encoded = encoder.predict(train.values)\n",
    "train_encoded.shape"
   ]
  },
  {
   "cell_type": "code",
   "execution_count": 63,
   "metadata": {
    "collapsed": false
   },
   "outputs": [
    {
     "name": "stdout",
     "output_type": "stream",
     "text": [
      "Gini log  Test=  0.28134335296\n"
     ]
    }
   ],
   "source": [
    "x_train ,x_test, y_train, y_test = train_test_split(train_encoded, target_train, test_size=0.2, random_state=1)\n",
    "\n",
    "log_model=LogisticRegression()\n",
    "log_model.fit(x_train,y_train)\n",
    "pred_log = log_model.predict_proba(x_test)[:,1]\n",
    "print( \"Gini log  Test= \", gini(y_test, pred_log))"
   ]
  },
  {
   "cell_type": "code",
   "execution_count": 64,
   "metadata": {
    "collapsed": false
   },
   "outputs": [
    {
     "name": "stdout",
     "output_type": "stream",
     "text": [
      "Gini log  Test=  0.275363902522\n"
     ]
    }
   ],
   "source": [
    "x_train ,x_test, y_train, y_test = train_test_split(train_encoded, target_train, test_size=0.2, random_state=0)\n",
    "\n",
    "log_model=LogisticRegression()\n",
    "log_model.fit(x_train,y_train)\n",
    "pred_log = log_model.predict_proba(x_test)[:,1]\n",
    "print( \"Gini log  Test= \", gini(y_test, pred_log))"
   ]
  },
  {
   "cell_type": "code",
   "execution_count": 65,
   "metadata": {
    "collapsed": false
   },
   "outputs": [
    {
     "name": "stdout",
     "output_type": "stream",
     "text": [
      "Gini log  Test=  0.269428439654\n"
     ]
    }
   ],
   "source": [
    "x_train ,x_test, y_train, y_test = train_test_split(train_encoded, target_train, test_size=0.2, random_state=2)\n",
    "\n",
    "log_model=LogisticRegression()\n",
    "log_model.fit(x_train,y_train)\n",
    "pred_log = log_model.predict_proba(x_test)[:,1]\n",
    "print( \"Gini log  Test= \", gini(y_test, pred_log))"
   ]
  },
  {
   "cell_type": "code",
   "execution_count": 66,
   "metadata": {
    "collapsed": false
   },
   "outputs": [
    {
     "name": "stdout",
     "output_type": "stream",
     "text": [
      "Gini log  Test=  0.282421169964\n"
     ]
    }
   ],
   "source": [
    "x_train ,x_test, y_train, y_test = train_test_split(train_encoded, target_train, test_size=0.2, random_state=3)\n",
    "\n",
    "log_model=LogisticRegression()\n",
    "log_model.fit(x_train,y_train)\n",
    "pred_log = log_model.predict_proba(x_test)[:,1]\n",
    "print( \"Gini log  Test= \", gini(y_test, pred_log))"
   ]
  },
  {
   "cell_type": "code",
   "execution_count": 71,
   "metadata": {
    "collapsed": false
   },
   "outputs": [],
   "source": [
    "np.save(\"train_dae_encoded.npy\", train_encoded)"
   ]
  },
  {
   "cell_type": "code",
   "execution_count": 75,
   "metadata": {
    "collapsed": true
   },
   "outputs": [],
   "source": [
    "autoencoder.save(\"denoising_autoencoder.h5\")"
   ]
  },
  {
   "cell_type": "code",
   "execution_count": null,
   "metadata": {
    "collapsed": true
   },
   "outputs": [],
   "source": []
  }
 ],
 "metadata": {
  "anaconda-cloud": {},
  "kernelspec": {
   "display_name": "Python [Root]",
   "language": "python",
   "name": "Python [Root]"
  },
  "language_info": {
   "codemirror_mode": {
    "name": "ipython",
    "version": 3
   },
   "file_extension": ".py",
   "mimetype": "text/x-python",
   "name": "python",
   "nbconvert_exporter": "python",
   "pygments_lexer": "ipython3",
   "version": "3.5.2"
  }
 },
 "nbformat": 4,
 "nbformat_minor": 0
}
