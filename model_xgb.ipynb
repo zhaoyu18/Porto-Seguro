{
 "cells": [
  {
   "cell_type": "code",
   "execution_count": 1,
   "metadata": {
    "collapsed": true
   },
   "outputs": [],
   "source": [
    "import pandas as pd\n",
    "import numpy as np\n",
    "import xgboost as xgb\n",
    "import lightgbm as lgb\n",
    "from sklearn.model_selection import StratifiedKFold\n",
    "import gc"
   ]
  },
  {
   "cell_type": "code",
   "execution_count": 2,
   "metadata": {
    "collapsed": false
   },
   "outputs": [
    {
     "name": "stdout",
     "output_type": "stream",
     "text": [
      "loading files...\n",
      "(595212, 39) (892816, 38)\n"
     ]
    }
   ],
   "source": [
    "print('loading files...')\n",
    "train = pd.read_csv('../input/train.csv', na_values=-1)\n",
    "test = pd.read_csv('../input/test.csv', na_values=-1)\n",
    "col_to_drop = train.columns[train.columns.str.startswith('ps_calc_')]\n",
    "train = train.drop(col_to_drop, axis=1)  \n",
    "test = test.drop(col_to_drop, axis=1)  \n",
    "\n",
    "for c in train.select_dtypes(include=['float64']).columns:\n",
    "    train[c]=train[c].astype(np.float32)\n",
    "    test[c]=test[c].astype(np.float32)\n",
    "for c in train.select_dtypes(include=['int64']).columns[2:]:\n",
    "    train[c]=train[c].astype(np.int8)\n",
    "    test[c]=test[c].astype(np.int8)    \n",
    "\n",
    "print(train.shape, test.shape)"
   ]
  },
  {
   "cell_type": "code",
   "execution_count": 3,
   "metadata": {
    "collapsed": true
   },
   "outputs": [],
   "source": [
    "# custom objective function (similar to auc)\n",
    "\n",
    "def gini(y, pred):\n",
    "    g = np.asarray(np.c_[y, pred, np.arange(len(y)) ], dtype=np.float)\n",
    "    g = g[np.lexsort((g[:,2], -1*g[:,1]))]\n",
    "    gs = g[:,0].cumsum().sum() / g[:,0].sum()\n",
    "    gs -= (len(y) + 1) / 2.\n",
    "    return gs / len(y)\n",
    "\n",
    "def gini_xgb(pred, y):\n",
    "    y = y.get_label()\n",
    "    return 'gini', gini(y, pred) / gini(y, y)\n",
    "\n",
    "def gini_lgb(preds, dtrain):\n",
    "    y = list(dtrain.get_label())\n",
    "    score = gini(y, preds) / gini(y, y)\n",
    "    return 'gini', score, True"
   ]
  },
  {
   "cell_type": "code",
   "execution_count": 6,
   "metadata": {
    "collapsed": false,
    "scrolled": false
   },
   "outputs": [
    {
     "name": "stdout",
     "output_type": "stream",
     "text": [
      " xgb kfold: 1  of  5 : \n",
      "[0]\ttrain-auc:0.601324\tvalid-auc:0.602617\ttrain-gini:0.202082\tvalid-gini:0.205887\n",
      "Multiple eval metrics have been passed: 'valid-gini' will be used for early stopping.\n",
      "\n",
      "Will train until valid-gini hasn't improved in 100 rounds.\n",
      "[100]\ttrain-auc:0.623693\tvalid-auc:0.620085\ttrain-gini:0.247387\tvalid-gini:0.240162\n",
      "[200]\ttrain-auc:0.638531\tvalid-auc:0.629181\ttrain-gini:0.277062\tvalid-gini:0.258362\n",
      "[300]\ttrain-auc:0.648991\tvalid-auc:0.635315\ttrain-gini:0.297981\tvalid-gini:0.27063\n",
      "[400]\ttrain-auc:0.655998\tvalid-auc:0.638341\ttrain-gini:0.311997\tvalid-gini:0.276683\n",
      "[500]\ttrain-auc:0.661262\tvalid-auc:0.640102\ttrain-gini:0.322523\tvalid-gini:0.280205\n",
      "[600]\ttrain-auc:0.665372\tvalid-auc:0.640794\ttrain-gini:0.330743\tvalid-gini:0.281587\n",
      "[700]\ttrain-auc:0.668688\tvalid-auc:0.641223\ttrain-gini:0.337375\tvalid-gini:0.282446\n",
      "Stopping. Best iteration:\n",
      "[691]\ttrain-auc:0.668416\tvalid-auc:0.64127\ttrain-gini:0.336833\tvalid-gini:0.282541\n",
      "\n",
      " xgb kfold: 2  of  5 : \n",
      "[0]\ttrain-auc:0.600769\tvalid-auc:0.598834\ttrain-gini:0.201049\tvalid-gini:0.198643\n",
      "Multiple eval metrics have been passed: 'valid-gini' will be used for early stopping.\n",
      "\n",
      "Will train until valid-gini hasn't improved in 100 rounds.\n",
      "[100]\ttrain-auc:0.624386\tvalid-auc:0.617363\ttrain-gini:0.248774\tvalid-gini:0.234732\n",
      "[200]\ttrain-auc:0.637844\tvalid-auc:0.628488\ttrain-gini:0.275688\tvalid-gini:0.256977\n",
      "[300]\ttrain-auc:0.648176\tvalid-auc:0.635789\ttrain-gini:0.296353\tvalid-gini:0.271577\n",
      "[400]\ttrain-auc:0.655458\tvalid-auc:0.639365\ttrain-gini:0.310917\tvalid-gini:0.278729\n",
      "[500]\ttrain-auc:0.660571\tvalid-auc:0.641337\ttrain-gini:0.321142\tvalid-gini:0.282674\n",
      "[600]\ttrain-auc:0.664875\tvalid-auc:0.642193\ttrain-gini:0.329749\tvalid-gini:0.284386\n",
      "[700]\ttrain-auc:0.668508\tvalid-auc:0.642908\ttrain-gini:0.337015\tvalid-gini:0.285816\n",
      "[800]\ttrain-auc:0.672142\tvalid-auc:0.643289\ttrain-gini:0.344283\tvalid-gini:0.286577\n",
      "[900]\ttrain-auc:0.67546\tvalid-auc:0.643384\ttrain-gini:0.35092\tvalid-gini:0.286767\n",
      "[1000]\ttrain-auc:0.678496\tvalid-auc:0.643407\ttrain-gini:0.356992\tvalid-gini:0.286815\n",
      "Stopping. Best iteration:\n",
      "[949]\ttrain-auc:0.676783\tvalid-auc:0.643544\ttrain-gini:0.353566\tvalid-gini:0.287089\n",
      "\n",
      " xgb kfold: 3  of  5 : \n",
      "[0]\ttrain-auc:0.600735\tvalid-auc:0.59948\ttrain-gini:0.200868\tvalid-gini:0.197434\n",
      "Multiple eval metrics have been passed: 'valid-gini' will be used for early stopping.\n",
      "\n",
      "Will train until valid-gini hasn't improved in 100 rounds.\n",
      "[100]\ttrain-auc:0.624229\tvalid-auc:0.620489\ttrain-gini:0.248455\tvalid-gini:0.240972\n",
      "[200]\ttrain-auc:0.638639\tvalid-auc:0.629584\ttrain-gini:0.277277\tvalid-gini:0.259169\n",
      "[300]\ttrain-auc:0.648794\tvalid-auc:0.635471\ttrain-gini:0.297588\tvalid-gini:0.270941\n",
      "[400]\ttrain-auc:0.655326\tvalid-auc:0.638139\ttrain-gini:0.310652\tvalid-gini:0.276278\n",
      "[500]\ttrain-auc:0.660591\tvalid-auc:0.63946\ttrain-gini:0.321183\tvalid-gini:0.278921\n",
      "[600]\ttrain-auc:0.665139\tvalid-auc:0.640395\ttrain-gini:0.330278\tvalid-gini:0.280791\n",
      "[700]\ttrain-auc:0.668855\tvalid-auc:0.640831\ttrain-gini:0.337711\tvalid-gini:0.281663\n",
      "[800]\ttrain-auc:0.672273\tvalid-auc:0.640778\ttrain-gini:0.344546\tvalid-gini:0.281557\n",
      "Stopping. Best iteration:\n",
      "[751]\ttrain-auc:0.670695\tvalid-auc:0.640941\ttrain-gini:0.34139\tvalid-gini:0.281882\n",
      "\n",
      " xgb kfold: 4  of  5 : \n",
      "[0]\ttrain-auc:0.601727\tvalid-auc:0.59725\ttrain-gini:0.202933\tvalid-gini:0.192253\n",
      "Multiple eval metrics have been passed: 'valid-gini' will be used for early stopping.\n",
      "\n",
      "Will train until valid-gini hasn't improved in 100 rounds.\n",
      "[100]\ttrain-auc:0.623202\tvalid-auc:0.615862\ttrain-gini:0.246406\tvalid-gini:0.231716\n",
      "[200]\ttrain-auc:0.636549\tvalid-auc:0.628649\ttrain-gini:0.273099\tvalid-gini:0.257297\n",
      "[300]\ttrain-auc:0.647319\tvalid-auc:0.636809\ttrain-gini:0.294638\tvalid-gini:0.273619\n",
      "[400]\ttrain-auc:0.654283\tvalid-auc:0.640917\ttrain-gini:0.308567\tvalid-gini:0.281833\n",
      "[500]\ttrain-auc:0.659551\tvalid-auc:0.643098\ttrain-gini:0.319102\tvalid-gini:0.286196\n",
      "[600]\ttrain-auc:0.664131\tvalid-auc:0.644168\ttrain-gini:0.328263\tvalid-gini:0.288335\n",
      "[700]\ttrain-auc:0.667942\tvalid-auc:0.644913\ttrain-gini:0.335884\tvalid-gini:0.289827\n",
      "[800]\ttrain-auc:0.671399\tvalid-auc:0.645285\ttrain-gini:0.342798\tvalid-gini:0.290569\n",
      "[900]\ttrain-auc:0.674297\tvalid-auc:0.645561\ttrain-gini:0.348593\tvalid-gini:0.291123\n",
      "[1000]\ttrain-auc:0.677508\tvalid-auc:0.645568\ttrain-gini:0.355017\tvalid-gini:0.291136\n",
      "[1100]\ttrain-auc:0.680455\tvalid-auc:0.645748\ttrain-gini:0.36091\tvalid-gini:0.291496\n",
      "[1200]\ttrain-auc:0.683159\tvalid-auc:0.645866\ttrain-gini:0.366318\tvalid-gini:0.291732\n",
      "[1300]\ttrain-auc:0.685825\tvalid-auc:0.645846\ttrain-gini:0.371649\tvalid-gini:0.291691\n",
      "Stopping. Best iteration:\n",
      "[1217]\ttrain-auc:0.683646\tvalid-auc:0.645898\ttrain-gini:0.367292\tvalid-gini:0.291797\n",
      "\n",
      " xgb kfold: 5  of  5 : \n",
      "[0]\ttrain-auc:0.600923\tvalid-auc:0.595083\ttrain-gini:0.201501\tvalid-gini:0.189554\n",
      "Multiple eval metrics have been passed: 'valid-gini' will be used for early stopping.\n",
      "\n",
      "Will train until valid-gini hasn't improved in 100 rounds.\n",
      "[100]\ttrain-auc:0.625079\tvalid-auc:0.617802\ttrain-gini:0.250158\tvalid-gini:0.235608\n",
      "[200]\ttrain-auc:0.638871\tvalid-auc:0.626838\ttrain-gini:0.277742\tvalid-gini:0.253677\n",
      "[300]\ttrain-auc:0.649287\tvalid-auc:0.63209\ttrain-gini:0.298575\tvalid-gini:0.264181\n",
      "[400]\ttrain-auc:0.656538\tvalid-auc:0.634999\ttrain-gini:0.313076\tvalid-gini:0.269997\n",
      "[500]\ttrain-auc:0.661662\tvalid-auc:0.636524\ttrain-gini:0.323324\tvalid-gini:0.273049\n",
      "[600]\ttrain-auc:0.66582\tvalid-auc:0.637084\ttrain-gini:0.331639\tvalid-gini:0.274167\n",
      "[700]\ttrain-auc:0.669578\tvalid-auc:0.637675\ttrain-gini:0.339155\tvalid-gini:0.27535\n",
      "[800]\ttrain-auc:0.673027\tvalid-auc:0.638143\ttrain-gini:0.346053\tvalid-gini:0.276287\n",
      "[900]\ttrain-auc:0.676203\tvalid-auc:0.638297\ttrain-gini:0.352406\tvalid-gini:0.276594\n",
      "[1000]\ttrain-auc:0.678975\tvalid-auc:0.63859\ttrain-gini:0.357951\tvalid-gini:0.27718\n",
      "[1100]\ttrain-auc:0.681933\tvalid-auc:0.638639\ttrain-gini:0.363867\tvalid-gini:0.277278\n",
      "[1200]\ttrain-auc:0.684825\tvalid-auc:0.63853\ttrain-gini:0.369649\tvalid-gini:0.277061\n",
      "Stopping. Best iteration:\n",
      "[1131]\ttrain-auc:0.682853\tvalid-auc:0.63876\ttrain-gini:0.365706\tvalid-gini:0.27752\n",
      "\n"
     ]
    }
   ],
   "source": [
    "# xgb\n",
    "params = {\n",
    "    'eta': 0.02,\n",
    "    'max_depth': 4,\n",
    "    'subsample': 0.9,\n",
    "    'colsample_bytree': 0.9, \n",
    "    'objective': 'binary:logistic',\n",
    "    'eval_metric': 'auc',\n",
    "    'silent': True\n",
    "}\n",
    "\n",
    "X = train.drop(['id', 'target'], axis=1)\n",
    "features = X.columns\n",
    "X = X.values\n",
    "y = train['target'].values\n",
    "sub=test['id'].to_frame()\n",
    "sub['target']=0\n",
    "\n",
    "cv_scores = []\n",
    "\n",
    "nrounds=2000  # need to change to 2000\n",
    "kfold = 5  # need to change to 5\n",
    "skf = StratifiedKFold(n_splits=kfold, random_state=0)\n",
    "for i, (train_index, test_index) in enumerate(skf.split(X, y)):\n",
    "    print(' xgb kfold: {}  of  {} : '.format(i+1, kfold))\n",
    "    X_train, X_valid = X[train_index], X[test_index]\n",
    "    y_train, y_valid = y[train_index], y[test_index]\n",
    "    d_train = xgb.DMatrix(X_train, y_train) \n",
    "    d_valid = xgb.DMatrix(X_valid, y_valid) \n",
    "    watchlist = [(d_train, 'train'), (d_valid, 'valid')]\n",
    "    xgb_model = xgb.train(params, d_train, nrounds, watchlist, early_stopping_rounds=100, \n",
    "                          feval=gini_xgb, maximize=True, verbose_eval=100)\n",
    "    sub['target'] += xgb_model.predict(xgb.DMatrix(test[features].values), \n",
    "                        ntree_limit=xgb_model.best_ntree_limit) / kfold\n",
    "    y_eval_pred = xgb_model.predict(xgb.DMatrix(X_valid), ntree_limit=xgb_model.best_ntree_limit)\n",
    "    cv_scores.append(gini(y_valid, y_eval_pred) / gini(y_valid, y_valid))"
   ]
  },
  {
   "cell_type": "code",
   "execution_count": 7,
   "metadata": {
    "collapsed": false
   },
   "outputs": [
    {
     "data": {
      "text/plain": [
       "0.28416580012853843"
      ]
     },
     "execution_count": 7,
     "metadata": {},
     "output_type": "execute_result"
    }
   ],
   "source": [
    "np.mean(cv_scores)"
   ]
  },
  {
   "cell_type": "code",
   "execution_count": 8,
   "metadata": {
    "collapsed": true
   },
   "outputs": [],
   "source": [
    "sub.to_csv('../output/xgb1_284.csv', index=False, float_format='%.5f')"
   ]
  },
  {
   "cell_type": "code",
   "execution_count": null,
   "metadata": {
    "collapsed": true
   },
   "outputs": [],
   "source": []
  }
 ],
 "metadata": {
  "anaconda-cloud": {},
  "kernelspec": {
   "display_name": "Python [Root]",
   "language": "python",
   "name": "Python [Root]"
  },
  "language_info": {
   "codemirror_mode": {
    "name": "ipython",
    "version": 3
   },
   "file_extension": ".py",
   "mimetype": "text/x-python",
   "name": "python",
   "nbconvert_exporter": "python",
   "pygments_lexer": "ipython3",
   "version": "3.5.2"
  }
 },
 "nbformat": 4,
 "nbformat_minor": 0
}
