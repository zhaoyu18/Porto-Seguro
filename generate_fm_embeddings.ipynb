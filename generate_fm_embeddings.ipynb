{
 "cells": [
  {
   "cell_type": "code",
   "execution_count": 1,
   "metadata": {
    "collapsed": true
   },
   "outputs": [],
   "source": [
    "import math\n",
    "import numpy as np\n",
    "import pandas as pd\n",
    "from sklearn import metrics"
   ]
  },
  {
   "cell_type": "code",
   "execution_count": 2,
   "metadata": {
    "collapsed": true
   },
   "outputs": [],
   "source": [
    "# train and test data path\n",
    "DATA_TRAIN_PATH = '../kaggle/Porto Seguro/input/train.csv'\n",
    "DATA_TEST_PATH = '../kaggle/Porto Seguro/input/test.csv'"
   ]
  },
  {
   "cell_type": "code",
   "execution_count": 3,
   "metadata": {
    "collapsed": false
   },
   "outputs": [
    {
     "name": "stdout",
     "output_type": "stream",
     "text": [
      "(595212, 59)\n",
      "(892816, 59)\n"
     ]
    }
   ],
   "source": [
    "train = pd.read_csv(DATA_TRAIN_PATH)\n",
    "test = pd.read_csv(DATA_TEST_PATH)\n",
    "test.insert(1,'target',0)\n",
    "print(train.shape)\n",
    "print(test.shape)"
   ]
  },
  {
   "cell_type": "code",
   "execution_count": 4,
   "metadata": {
    "collapsed": true
   },
   "outputs": [],
   "source": [
    "x = pd.concat([train,test])\n",
    "x = x.reset_index(drop=True)\n",
    "unwanted = x.columns[x.columns.str.startswith('ps_calc_')]\n",
    "x.drop(unwanted,inplace=True,axis=1)"
   ]
  },
  {
   "cell_type": "code",
   "execution_count": 5,
   "metadata": {
    "collapsed": false
   },
   "outputs": [
    {
     "name": "stdout",
     "output_type": "stream",
     "text": [
      "ps_ind_01 8 8\n",
      "ps_ind_02_cat 5 5\n",
      "ps_ind_03 12 12\n",
      "ps_ind_04_cat 3 3\n",
      "ps_ind_05_cat 8 8\n",
      "ps_ind_06_bin 2 2\n",
      "ps_ind_07_bin 2 2\n",
      "ps_ind_08_bin 2 2\n",
      "ps_ind_09_bin 2 2\n",
      "ps_ind_10_bin 2 2\n",
      "ps_ind_11_bin 2 2\n",
      "ps_ind_12_bin 2 2\n",
      "ps_ind_13_bin 2 2\n",
      "ps_ind_14 5 5\n",
      "ps_ind_15 14 14\n",
      "ps_ind_16_bin 2 2\n",
      "ps_ind_17_bin 2 2\n",
      "ps_ind_18_bin 2 2\n",
      "ps_reg_01 10 10\n",
      "ps_reg_02 19 19\n",
      "ps_reg_03 5013 5046\n",
      "ps_car_01_cat 13 13\n",
      "ps_car_02_cat 3 3\n",
      "ps_car_03_cat 3 3\n",
      "ps_car_04_cat 10 10\n",
      "ps_car_05_cat 3 3\n",
      "ps_car_06_cat 18 18\n",
      "ps_car_07_cat 3 3\n",
      "ps_car_08_cat 2 2\n",
      "ps_car_09_cat 6 6\n",
      "ps_car_10_cat 3 3\n",
      "ps_car_11_cat 104 104\n",
      "ps_car_11 5 5\n",
      "ps_car_12 184 201\n",
      "ps_car_13 70482 83769\n",
      "ps_car_14 850 885\n",
      "ps_car_15 15 15\n"
     ]
    }
   ],
   "source": [
    "features = x.columns[2:]\n",
    "categories = []\n",
    "for c in features:\n",
    "    trainno = len(x.loc[:train.shape[0],c].unique())\n",
    "    testno = len(x.loc[train.shape[0]:,c].unique())\n",
    "    print(c,trainno,testno)"
   ]
  },
  {
   "cell_type": "code",
   "execution_count": 6,
   "metadata": {
    "collapsed": true
   },
   "outputs": [],
   "source": [
    "x.loc[:,'ps_reg_03'] = pd.cut(x['ps_reg_03'], 50,labels=False)\n",
    "x.loc[:,'ps_car_12'] = pd.cut(x['ps_car_12'], 50,labels=False)\n",
    "x.loc[:,'ps_car_13'] = pd.cut(x['ps_car_13'], 50,labels=False)\n",
    "x.loc[:,'ps_car_14'] =  pd.cut(x['ps_car_14'], 50,labels=False)\n",
    "x.loc[:,'ps_car_15'] =  pd.cut(x['ps_car_15'], 50,labels=False)"
   ]
  },
  {
   "cell_type": "code",
   "execution_count": 7,
   "metadata": {
    "collapsed": true
   },
   "outputs": [],
   "source": [
    "test = x.loc[train.shape[0]:].copy()\n",
    "train = x.loc[:train.shape[0]].copy()"
   ]
  },
  {
   "cell_type": "code",
   "execution_count": 8,
   "metadata": {
    "collapsed": false
   },
   "outputs": [],
   "source": [
    "#Always good to shuffle for SGD type optimizers\n",
    "train = train.sample(frac=1).reset_index(drop=True)"
   ]
  },
  {
   "cell_type": "code",
   "execution_count": 9,
   "metadata": {
    "collapsed": true
   },
   "outputs": [],
   "source": [
    "train.drop('id',inplace=True,axis=1)\n",
    "test.drop('id',inplace=True,axis=1)"
   ]
  },
  {
   "cell_type": "code",
   "execution_count": 10,
   "metadata": {
    "collapsed": false
   },
   "outputs": [
    {
     "data": {
      "text/html": [
       "<div>\n",
       "<table border=\"1\" class=\"dataframe\">\n",
       "  <thead>\n",
       "    <tr style=\"text-align: right;\">\n",
       "      <th></th>\n",
       "      <th>target</th>\n",
       "      <th>ps_ind_01</th>\n",
       "      <th>ps_ind_02_cat</th>\n",
       "      <th>ps_ind_03</th>\n",
       "      <th>ps_ind_04_cat</th>\n",
       "      <th>ps_ind_05_cat</th>\n",
       "      <th>ps_ind_06_bin</th>\n",
       "      <th>ps_ind_07_bin</th>\n",
       "      <th>ps_ind_08_bin</th>\n",
       "      <th>ps_ind_09_bin</th>\n",
       "      <th>...</th>\n",
       "      <th>ps_car_07_cat</th>\n",
       "      <th>ps_car_08_cat</th>\n",
       "      <th>ps_car_09_cat</th>\n",
       "      <th>ps_car_10_cat</th>\n",
       "      <th>ps_car_11_cat</th>\n",
       "      <th>ps_car_11</th>\n",
       "      <th>ps_car_12</th>\n",
       "      <th>ps_car_13</th>\n",
       "      <th>ps_car_14</th>\n",
       "      <th>ps_car_15</th>\n",
       "    </tr>\n",
       "  </thead>\n",
       "  <tbody>\n",
       "    <tr>\n",
       "      <th>0</th>\n",
       "      <td>0</td>\n",
       "      <td>0</td>\n",
       "      <td>2</td>\n",
       "      <td>0</td>\n",
       "      <td>0</td>\n",
       "      <td>-1</td>\n",
       "      <td>1</td>\n",
       "      <td>0</td>\n",
       "      <td>0</td>\n",
       "      <td>0</td>\n",
       "      <td>...</td>\n",
       "      <td>-1</td>\n",
       "      <td>1</td>\n",
       "      <td>2</td>\n",
       "      <td>1</td>\n",
       "      <td>103</td>\n",
       "      <td>3</td>\n",
       "      <td>29</td>\n",
       "      <td>4</td>\n",
       "      <td>39</td>\n",
       "      <td>37</td>\n",
       "    </tr>\n",
       "    <tr>\n",
       "      <th>1</th>\n",
       "      <td>0</td>\n",
       "      <td>1</td>\n",
       "      <td>2</td>\n",
       "      <td>7</td>\n",
       "      <td>1</td>\n",
       "      <td>0</td>\n",
       "      <td>0</td>\n",
       "      <td>1</td>\n",
       "      <td>0</td>\n",
       "      <td>0</td>\n",
       "      <td>...</td>\n",
       "      <td>1</td>\n",
       "      <td>1</td>\n",
       "      <td>2</td>\n",
       "      <td>1</td>\n",
       "      <td>1</td>\n",
       "      <td>0</td>\n",
       "      <td>31</td>\n",
       "      <td>9</td>\n",
       "      <td>41</td>\n",
       "      <td>46</td>\n",
       "    </tr>\n",
       "    <tr>\n",
       "      <th>2</th>\n",
       "      <td>0</td>\n",
       "      <td>1</td>\n",
       "      <td>1</td>\n",
       "      <td>2</td>\n",
       "      <td>0</td>\n",
       "      <td>0</td>\n",
       "      <td>1</td>\n",
       "      <td>0</td>\n",
       "      <td>0</td>\n",
       "      <td>0</td>\n",
       "      <td>...</td>\n",
       "      <td>1</td>\n",
       "      <td>1</td>\n",
       "      <td>2</td>\n",
       "      <td>1</td>\n",
       "      <td>44</td>\n",
       "      <td>3</td>\n",
       "      <td>31</td>\n",
       "      <td>6</td>\n",
       "      <td>42</td>\n",
       "      <td>32</td>\n",
       "    </tr>\n",
       "    <tr>\n",
       "      <th>3</th>\n",
       "      <td>0</td>\n",
       "      <td>0</td>\n",
       "      <td>1</td>\n",
       "      <td>6</td>\n",
       "      <td>0</td>\n",
       "      <td>0</td>\n",
       "      <td>0</td>\n",
       "      <td>0</td>\n",
       "      <td>0</td>\n",
       "      <td>1</td>\n",
       "      <td>...</td>\n",
       "      <td>1</td>\n",
       "      <td>0</td>\n",
       "      <td>2</td>\n",
       "      <td>1</td>\n",
       "      <td>1</td>\n",
       "      <td>0</td>\n",
       "      <td>31</td>\n",
       "      <td>10</td>\n",
       "      <td>43</td>\n",
       "      <td>48</td>\n",
       "    </tr>\n",
       "    <tr>\n",
       "      <th>4</th>\n",
       "      <td>0</td>\n",
       "      <td>4</td>\n",
       "      <td>1</td>\n",
       "      <td>9</td>\n",
       "      <td>0</td>\n",
       "      <td>0</td>\n",
       "      <td>0</td>\n",
       "      <td>0</td>\n",
       "      <td>0</td>\n",
       "      <td>1</td>\n",
       "      <td>...</td>\n",
       "      <td>1</td>\n",
       "      <td>1</td>\n",
       "      <td>0</td>\n",
       "      <td>1</td>\n",
       "      <td>57</td>\n",
       "      <td>2</td>\n",
       "      <td>30</td>\n",
       "      <td>5</td>\n",
       "      <td>42</td>\n",
       "      <td>37</td>\n",
       "    </tr>\n",
       "  </tbody>\n",
       "</table>\n",
       "<p>5 rows × 38 columns</p>\n",
       "</div>"
      ],
      "text/plain": [
       "   target  ps_ind_01  ps_ind_02_cat  ps_ind_03  ps_ind_04_cat  ps_ind_05_cat  \\\n",
       "0       0          0              2          0              0             -1   \n",
       "1       0          1              2          7              1              0   \n",
       "2       0          1              1          2              0              0   \n",
       "3       0          0              1          6              0              0   \n",
       "4       0          4              1          9              0              0   \n",
       "\n",
       "   ps_ind_06_bin  ps_ind_07_bin  ps_ind_08_bin  ps_ind_09_bin    ...      \\\n",
       "0              1              0              0              0    ...       \n",
       "1              0              1              0              0    ...       \n",
       "2              1              0              0              0    ...       \n",
       "3              0              0              0              1    ...       \n",
       "4              0              0              0              1    ...       \n",
       "\n",
       "   ps_car_07_cat  ps_car_08_cat  ps_car_09_cat  ps_car_10_cat  ps_car_11_cat  \\\n",
       "0             -1              1              2              1            103   \n",
       "1              1              1              2              1              1   \n",
       "2              1              1              2              1             44   \n",
       "3              1              0              2              1              1   \n",
       "4              1              1              0              1             57   \n",
       "\n",
       "   ps_car_11  ps_car_12  ps_car_13  ps_car_14  ps_car_15  \n",
       "0          3         29          4         39         37  \n",
       "1          0         31          9         41         46  \n",
       "2          3         31          6         42         32  \n",
       "3          0         31         10         43         48  \n",
       "4          2         30          5         42         37  \n",
       "\n",
       "[5 rows x 38 columns]"
      ]
     },
     "execution_count": 10,
     "metadata": {},
     "output_type": "execute_result"
    }
   ],
   "source": [
    "train.head()"
   ]
  },
  {
   "cell_type": "code",
   "execution_count": 11,
   "metadata": {
    "collapsed": true
   },
   "outputs": [],
   "source": [
    "target = train.target\n",
    "train.drop('target', inplace=True, axis=1)\n",
    "test.drop('target', inplace=True, axis=1)\n",
    "n_train = train.shape[0]\n",
    "\n",
    "train_test = pd.concat((train, test)).reset_index(drop=True)"
   ]
  },
  {
   "cell_type": "code",
   "execution_count": 12,
   "metadata": {
    "collapsed": false
   },
   "outputs": [],
   "source": [
    "train_test.ps_reg_01 = (train_test.ps_reg_01 * 10).astype('int')\n",
    "train_test.ps_reg_02 = (train_test.ps_reg_02 * 10).astype('int')"
   ]
  },
  {
   "cell_type": "code",
   "execution_count": 13,
   "metadata": {
    "collapsed": false
   },
   "outputs": [],
   "source": [
    "dummy_df = pd.DataFrame()\n",
    "for col in train_test.columns:\n",
    "    dummy = pd.get_dummies(train_test[col].astype('category'))\n",
    "    columns = dummy.columns.astype(str).tolist()\n",
    "    columns = [col + '_' + w for w in columns]\n",
    "    dummy.columns = columns\n",
    "    dummy_df = pd.concat((dummy_df, dummy), axis=1)"
   ]
  },
  {
   "cell_type": "code",
   "execution_count": 14,
   "metadata": {
    "collapsed": false
   },
   "outputs": [
    {
     "data": {
      "text/html": [
       "<div>\n",
       "<table border=\"1\" class=\"dataframe\">\n",
       "  <thead>\n",
       "    <tr style=\"text-align: right;\">\n",
       "      <th></th>\n",
       "      <th>ps_ind_01_0</th>\n",
       "      <th>ps_ind_01_1</th>\n",
       "      <th>ps_ind_01_2</th>\n",
       "      <th>ps_ind_01_3</th>\n",
       "      <th>ps_ind_01_4</th>\n",
       "      <th>ps_ind_01_5</th>\n",
       "      <th>ps_ind_01_6</th>\n",
       "      <th>ps_ind_01_7</th>\n",
       "      <th>ps_ind_02_cat_-1</th>\n",
       "      <th>ps_ind_02_cat_1</th>\n",
       "      <th>...</th>\n",
       "      <th>ps_car_15_29</th>\n",
       "      <th>ps_car_15_32</th>\n",
       "      <th>ps_car_15_35</th>\n",
       "      <th>ps_car_15_37</th>\n",
       "      <th>ps_car_15_40</th>\n",
       "      <th>ps_car_15_42</th>\n",
       "      <th>ps_car_15_44</th>\n",
       "      <th>ps_car_15_46</th>\n",
       "      <th>ps_car_15_48</th>\n",
       "      <th>ps_car_15_49</th>\n",
       "    </tr>\n",
       "  </thead>\n",
       "  <tbody>\n",
       "    <tr>\n",
       "      <th>0</th>\n",
       "      <td>1.0</td>\n",
       "      <td>0.0</td>\n",
       "      <td>0.0</td>\n",
       "      <td>0.0</td>\n",
       "      <td>0.0</td>\n",
       "      <td>0.0</td>\n",
       "      <td>0.0</td>\n",
       "      <td>0.0</td>\n",
       "      <td>0.0</td>\n",
       "      <td>0.0</td>\n",
       "      <td>...</td>\n",
       "      <td>0.0</td>\n",
       "      <td>0.0</td>\n",
       "      <td>0.0</td>\n",
       "      <td>1.0</td>\n",
       "      <td>0.0</td>\n",
       "      <td>0.0</td>\n",
       "      <td>0.0</td>\n",
       "      <td>0.0</td>\n",
       "      <td>0.0</td>\n",
       "      <td>0.0</td>\n",
       "    </tr>\n",
       "    <tr>\n",
       "      <th>1</th>\n",
       "      <td>0.0</td>\n",
       "      <td>1.0</td>\n",
       "      <td>0.0</td>\n",
       "      <td>0.0</td>\n",
       "      <td>0.0</td>\n",
       "      <td>0.0</td>\n",
       "      <td>0.0</td>\n",
       "      <td>0.0</td>\n",
       "      <td>0.0</td>\n",
       "      <td>0.0</td>\n",
       "      <td>...</td>\n",
       "      <td>0.0</td>\n",
       "      <td>0.0</td>\n",
       "      <td>0.0</td>\n",
       "      <td>0.0</td>\n",
       "      <td>0.0</td>\n",
       "      <td>0.0</td>\n",
       "      <td>0.0</td>\n",
       "      <td>1.0</td>\n",
       "      <td>0.0</td>\n",
       "      <td>0.0</td>\n",
       "    </tr>\n",
       "    <tr>\n",
       "      <th>2</th>\n",
       "      <td>0.0</td>\n",
       "      <td>1.0</td>\n",
       "      <td>0.0</td>\n",
       "      <td>0.0</td>\n",
       "      <td>0.0</td>\n",
       "      <td>0.0</td>\n",
       "      <td>0.0</td>\n",
       "      <td>0.0</td>\n",
       "      <td>0.0</td>\n",
       "      <td>1.0</td>\n",
       "      <td>...</td>\n",
       "      <td>0.0</td>\n",
       "      <td>1.0</td>\n",
       "      <td>0.0</td>\n",
       "      <td>0.0</td>\n",
       "      <td>0.0</td>\n",
       "      <td>0.0</td>\n",
       "      <td>0.0</td>\n",
       "      <td>0.0</td>\n",
       "      <td>0.0</td>\n",
       "      <td>0.0</td>\n",
       "    </tr>\n",
       "    <tr>\n",
       "      <th>3</th>\n",
       "      <td>1.0</td>\n",
       "      <td>0.0</td>\n",
       "      <td>0.0</td>\n",
       "      <td>0.0</td>\n",
       "      <td>0.0</td>\n",
       "      <td>0.0</td>\n",
       "      <td>0.0</td>\n",
       "      <td>0.0</td>\n",
       "      <td>0.0</td>\n",
       "      <td>1.0</td>\n",
       "      <td>...</td>\n",
       "      <td>0.0</td>\n",
       "      <td>0.0</td>\n",
       "      <td>0.0</td>\n",
       "      <td>0.0</td>\n",
       "      <td>0.0</td>\n",
       "      <td>0.0</td>\n",
       "      <td>0.0</td>\n",
       "      <td>0.0</td>\n",
       "      <td>1.0</td>\n",
       "      <td>0.0</td>\n",
       "    </tr>\n",
       "    <tr>\n",
       "      <th>4</th>\n",
       "      <td>0.0</td>\n",
       "      <td>0.0</td>\n",
       "      <td>0.0</td>\n",
       "      <td>0.0</td>\n",
       "      <td>1.0</td>\n",
       "      <td>0.0</td>\n",
       "      <td>0.0</td>\n",
       "      <td>0.0</td>\n",
       "      <td>0.0</td>\n",
       "      <td>1.0</td>\n",
       "      <td>...</td>\n",
       "      <td>0.0</td>\n",
       "      <td>0.0</td>\n",
       "      <td>0.0</td>\n",
       "      <td>1.0</td>\n",
       "      <td>0.0</td>\n",
       "      <td>0.0</td>\n",
       "      <td>0.0</td>\n",
       "      <td>0.0</td>\n",
       "      <td>0.0</td>\n",
       "      <td>0.0</td>\n",
       "    </tr>\n",
       "  </tbody>\n",
       "</table>\n",
       "<p>5 rows × 408 columns</p>\n",
       "</div>"
      ],
      "text/plain": [
       "   ps_ind_01_0  ps_ind_01_1  ps_ind_01_2  ps_ind_01_3  ps_ind_01_4  \\\n",
       "0          1.0          0.0          0.0          0.0          0.0   \n",
       "1          0.0          1.0          0.0          0.0          0.0   \n",
       "2          0.0          1.0          0.0          0.0          0.0   \n",
       "3          1.0          0.0          0.0          0.0          0.0   \n",
       "4          0.0          0.0          0.0          0.0          1.0   \n",
       "\n",
       "   ps_ind_01_5  ps_ind_01_6  ps_ind_01_7  ps_ind_02_cat_-1  ps_ind_02_cat_1  \\\n",
       "0          0.0          0.0          0.0               0.0              0.0   \n",
       "1          0.0          0.0          0.0               0.0              0.0   \n",
       "2          0.0          0.0          0.0               0.0              1.0   \n",
       "3          0.0          0.0          0.0               0.0              1.0   \n",
       "4          0.0          0.0          0.0               0.0              1.0   \n",
       "\n",
       "       ...       ps_car_15_29  ps_car_15_32  ps_car_15_35  ps_car_15_37  \\\n",
       "0      ...                0.0           0.0           0.0           1.0   \n",
       "1      ...                0.0           0.0           0.0           0.0   \n",
       "2      ...                0.0           1.0           0.0           0.0   \n",
       "3      ...                0.0           0.0           0.0           0.0   \n",
       "4      ...                0.0           0.0           0.0           1.0   \n",
       "\n",
       "   ps_car_15_40  ps_car_15_42  ps_car_15_44  ps_car_15_46  ps_car_15_48  \\\n",
       "0           0.0           0.0           0.0           0.0           0.0   \n",
       "1           0.0           0.0           0.0           1.0           0.0   \n",
       "2           0.0           0.0           0.0           0.0           0.0   \n",
       "3           0.0           0.0           0.0           0.0           1.0   \n",
       "4           0.0           0.0           0.0           0.0           0.0   \n",
       "\n",
       "   ps_car_15_49  \n",
       "0           0.0  \n",
       "1           0.0  \n",
       "2           0.0  \n",
       "3           0.0  \n",
       "4           0.0  \n",
       "\n",
       "[5 rows x 408 columns]"
      ]
     },
     "execution_count": 14,
     "metadata": {},
     "output_type": "execute_result"
    }
   ],
   "source": [
    "dummy_df.head()"
   ]
  },
  {
   "cell_type": "code",
   "execution_count": 15,
   "metadata": {
    "collapsed": false
   },
   "outputs": [
    {
     "data": {
      "text/plain": [
       "((595213, 408), (892816, 408))"
      ]
     },
     "execution_count": 15,
     "metadata": {},
     "output_type": "execute_result"
    }
   ],
   "source": [
    "train = dummy_df.values[:n_train, :]\n",
    "test = dummy_df.values[n_train:, :]\n",
    "train.shape, test.shape"
   ]
  },
  {
   "cell_type": "code",
   "execution_count": 16,
   "metadata": {
    "collapsed": false
   },
   "outputs": [
    {
     "name": "stderr",
     "output_type": "stream",
     "text": [
      "C:\\Users\\zhaoy\\Anaconda3\\lib\\site-packages\\sklearn\\cross_validation.py:44: DeprecationWarning: This module was deprecated in version 0.18 in favor of the model_selection module into which all the refactored classes and functions are moved. Also note that the interface of the new CV iterators are different from that of this module. This module will be removed in 0.20.\n",
      "  \"This module will be removed in 0.20.\", DeprecationWarning)\n"
     ]
    }
   ],
   "source": [
    "from sklearn.cross_validation import train_test_split"
   ]
  },
  {
   "cell_type": "code",
   "execution_count": 56,
   "metadata": {
    "collapsed": true
   },
   "outputs": [],
   "source": [
    "x_train, x_test, y_train, y_test = train_test_split(train, target, test_size=0.2, random_state=2)"
   ]
  },
  {
   "cell_type": "code",
   "execution_count": 57,
   "metadata": {
    "collapsed": false
   },
   "outputs": [
    {
     "data": {
      "text/plain": [
       "((476170, 1), (119043, 1))"
      ]
     },
     "execution_count": 57,
     "metadata": {},
     "output_type": "execute_result"
    }
   ],
   "source": [
    "y_train = y_train.reshape([-1, 1])\n",
    "y_test = y_test.reshape([-1, 1])\n",
    "y_train.shape, y_test.shape"
   ]
  },
  {
   "cell_type": "code",
   "execution_count": 58,
   "metadata": {
    "collapsed": false
   },
   "outputs": [
    {
     "data": {
      "text/plain": [
       "((476170, 408), (119043, 408))"
      ]
     },
     "execution_count": 58,
     "metadata": {},
     "output_type": "execute_result"
    }
   ],
   "source": [
    "x_train.shape, x_test.shape"
   ]
  },
  {
   "cell_type": "code",
   "execution_count": 59,
   "metadata": {
    "collapsed": true
   },
   "outputs": [],
   "source": [
    "import tensorflow as tf"
   ]
  },
  {
   "cell_type": "code",
   "execution_count": 60,
   "metadata": {
    "collapsed": false
   },
   "outputs": [
    {
     "name": "stdout",
     "output_type": "stream",
     "text": [
      "INFO:tensorflow:logits.dtype=<dtype: 'float32'>.\n",
      "INFO:tensorflow:multi_class_labels.dtype=<dtype: 'float32'>.\n",
      "INFO:tensorflow:losses.dtype=<dtype: 'float32'>.\n"
     ]
    }
   ],
   "source": [
    "n = x_train.shape[1]\n",
    "# 潜在因子，越大拟合能力越强，越小泛化能力越强\n",
    "k = 4\n",
    "\n",
    "X = tf.placeholder('float', shape=[None, n])\n",
    "y = tf.placeholder('float', shape=[None, 1])\n",
    "\n",
    "# 初始化 0 次项，1 次项，辅助向量 v\n",
    "w0 = tf.Variable(tf.zeros([1]))\n",
    "W = tf.Variable(tf.zeros([n])) \n",
    "V = tf.Variable(tf.random_normal([n, k], stddev=0.01))\n",
    "\n",
    "# FM 公式前两部分\n",
    "linear_terms = tf.add(w0,\n",
    "                      tf.reduce_sum(tf.multiply(W, X),\n",
    "                                    axis=1,\n",
    "                                    keep_dims=True))\n",
    "\n",
    "# FM 公式最后一部分\n",
    "interactions = (tf.multiply(0.5,\n",
    "                tf.reduce_sum(\n",
    "                    tf.subtract(\n",
    "                        tf.pow(tf.matmul(X, V), 2),\n",
    "                        tf.matmul(tf.pow(X, 2), tf.pow(V, 2))),\n",
    "                    1, keep_dims=True)))\n",
    "\n",
    "# 交叉熵损失\n",
    "logits = tf.add(linear_terms, interactions)\n",
    "y_hat = tf.sigmoid(logits)\n",
    "loss = tf.losses.sigmoid_cross_entropy(y, logits)\n",
    "\n",
    "eta = tf.constant(0.1)\n",
    "optimizer = tf.train.AdagradOptimizer(eta).minimize(loss)"
   ]
  },
  {
   "cell_type": "code",
   "execution_count": 61,
   "metadata": {
    "collapsed": false,
    "scrolled": false
   },
   "outputs": [
    {
     "name": "stdout",
     "output_type": "stream",
     "text": [
      "0.276329349622 0.151436589682\n",
      "0.282447552492 0.150675390616\n",
      "0.285323364728 0.150542314571\n",
      "0.286699193082 0.150752264632\n",
      "0.288834971524 0.150473857297\n",
      "0.289183018366 0.150369272507\n",
      "0.287936809376 0.150305516604\n",
      "0.291049830386 0.1502848509\n",
      "0.29182346341 0.150220800439\n",
      "0.291238518446 0.150326201981\n"
     ]
    }
   ],
   "source": [
    "N_EPOCHS = 10\n",
    "batch_size = 512\n",
    "num_steps = x_train.shape[0] // batch_size + 1\n",
    "batch_size, num_steps\n",
    "\n",
    "init = tf.global_variables_initializer()\n",
    "with tf.Session() as sess:\n",
    "    sess.run(init)\n",
    "\n",
    "    for epoch in range(N_EPOCHS):\n",
    "        indices = np.arange(x_train.shape[0])\n",
    "        np.random.shuffle(indices)\n",
    "        x_train, y_train = x_train[indices], y_train[indices]\n",
    "        for step in range(num_steps):\n",
    "            offset = (step * batch_size) % (x_train.shape[0] - batch_size)\n",
    "            x_batch = x_train[offset:(offset + batch_size), :]\n",
    "            y_batch = y_train[offset:(offset + batch_size), :]\n",
    "            sess.run(optimizer, feed_dict={X: x_batch, y: y_batch})\n",
    "        test_pred = sess.run(y_hat, feed_dict={X: x_test}).flatten()\n",
    "        auc = metrics.roc_auc_score(y_score=test_pred, y_true=y_test.flatten())\n",
    "        logloss = metrics.log_loss(y_pred=test_pred.tolist(), y_true=y_test.flatten().tolist())\n",
    "        print(2*auc-1, logloss)\n",
    "    v = sess.run(V, feed_dict={X: x_test})\n",
    "    w = sess.run(W, feed_dict={X: x_test})\n",
    "    w0 = sess.run(w0, feed_dict={X: x_test})"
   ]
  },
  {
   "cell_type": "code",
   "execution_count": 62,
   "metadata": {
    "collapsed": false
   },
   "outputs": [
    {
     "data": {
      "text/plain": [
       "(408, 4)"
      ]
     },
     "execution_count": 62,
     "metadata": {},
     "output_type": "execute_result"
    }
   ],
   "source": [
    "v.shape"
   ]
  },
  {
   "cell_type": "code",
   "execution_count": 63,
   "metadata": {
    "collapsed": true
   },
   "outputs": [],
   "source": [
    "v_df = pd.DataFrame(v)"
   ]
  },
  {
   "cell_type": "code",
   "execution_count": 64,
   "metadata": {
    "collapsed": false
   },
   "outputs": [],
   "source": [
    "v_df.to_csv('fm_embeddings.csv', index=False)"
   ]
  },
  {
   "cell_type": "code",
   "execution_count": null,
   "metadata": {
    "collapsed": true
   },
   "outputs": [],
   "source": []
  },
  {
   "cell_type": "code",
   "execution_count": null,
   "metadata": {
    "collapsed": true
   },
   "outputs": [],
   "source": []
  }
 ],
 "metadata": {
  "kernelspec": {
   "display_name": "Python [Root]",
   "language": "python",
   "name": "Python [Root]"
  },
  "language_info": {
   "codemirror_mode": {
    "name": "ipython",
    "version": 3
   },
   "file_extension": ".py",
   "mimetype": "text/x-python",
   "name": "python",
   "nbconvert_exporter": "python",
   "pygments_lexer": "ipython3",
   "version": "3.5.2"
  }
 },
 "nbformat": 4,
 "nbformat_minor": 0
}
